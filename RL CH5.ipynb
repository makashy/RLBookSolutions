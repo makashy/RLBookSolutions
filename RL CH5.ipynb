{
 "cells": [
  {
   "cell_type": "code",
   "execution_count": 14,
   "metadata": {},
   "outputs": [],
   "source": [
    "import numpy as np\n",
    "import matplotlib.pyplot as plt\n",
    "from IPython.display import clear_output\n",
    "from time import sleep"
   ]
  },
  {
   "cell_type": "markdown",
   "metadata": {},
   "source": [
    "### Exercise 5.1"
   ]
  },
  {
   "cell_type": "markdown",
   "metadata": {},
   "source": [
    "a) Why does the estimated value function jump up for the last two rows in the rear? \n",
    "    Why does it drop off for the whole last row on the left?  \n",
    "\n",
    "The last two rows are corresponding to states which player's sum is 20 or 21. In these two state player sticks and doesn't go bust. So the player doesn't lose immediately. But in previous states, there is a chance of bust which reduces their state-values. \n",
    "\n",
    "b)Why are the frontmost values higher in the upper diagrams than in the lower?  \n",
    "\n",
    "In the case which usable ace is available, it is possible to prevent going bust, but otherwise, the player loses."
   ]
  },
  {
   "cell_type": "markdown",
   "metadata": {},
   "source": [
    "### Exercise 5.2"
   ]
  },
  {
   "cell_type": "markdown",
   "metadata": {},
   "source": [
    "The results won't be different because every state could be visited just once in an episode."
   ]
  },
  {
   "cell_type": "markdown",
   "metadata": {},
   "source": [
    "### Exercise 5.3"
   ]
  },
  {
   "cell_type": "markdown",
   "metadata": {},
   "source": [
    "$\\bullet$ : action  \n",
    "$\\bigcirc$ : state  \n",
    "$\\diamondsuit$ : terminal state  \n",
    "$\\bullet\\rightarrow\\bigcirc\\rightarrow\\bullet\\rightarrow\\bigcirc\\rightarrow...\\bigcirc\\rightarrow\\bullet\\rightarrow\\diamondsuit$"
   ]
  },
  {
   "cell_type": "markdown",
   "metadata": {},
   "source": [
    "### Exercise 5.4"
   ]
  },
  {
   "cell_type": "markdown",
   "metadata": {},
   "source": [
    "Initialize:  \n",
    "$\\hspace{1cm}\\pi(s) \\in A(s)$ (arbitrarily), for all $s \\in S$  \n",
    "$\\hspace{1cm}Q(s, a) \\in \\mathbb{R}$ (arbitrarily), for all $s \\in S, a \\in A(s)$  \n",
    "$\\hspace{1cm}\\underline{N(s, a) \\leftarrow 0}$, for all $s \\in S, a \\in A(s)$  \n",
    "Loop forever (for each episode):  \n",
    "$\\hspace{1cm}$Choose $S_0 \\in S, A_0 \\in A(S_0)$ randomly such that all pairs have probability > 0  \n",
    "$\\hspace{1cm}$Generate an episode from $S_0, A_0$, following $\\pi: S_0, A_0, R_1, . . . , S_{T-1}, A_{T-1}, R_T$  \n",
    "$\\hspace{1cm}G \\leftarrow 0$  \n",
    "$\\hspace{1cm}$Loop for each step of episode, $t = T-1,\\ T-2, . . . ,\\ 0:$    \n",
    "$\\hspace{1.5cm}G \\leftarrow \\gamma G + R_{t+1}$  \n",
    "$\\hspace{1.5cm}$Unless the pair $S_t, A_t$ appears in $S_0, A_0, S_1, A_1 . . . , S_{t-1}, A_{t-1}$:  \n",
    "$\\hspace{2.0cm}\\underline{N(s, a) \\leftarrow N(s, a) +1}$  \n",
    "$\\hspace{2.0cm}\\underline{Q(S_t, A_t) \\leftarrow Q(S_t, A_t) + \\frac{1}{N(s,a)}(Returns(S_t, A_t)-Q(S_t, A_t))}$  \n",
    "$\\hspace{2.0cm}\\pi(S_t) \\leftarrow  argmax_a Q(S_t, a)$"
   ]
  },
  {
   "cell_type": "markdown",
   "metadata": {},
   "source": [
    "### Exercise 5.5"
   ]
  },
  {
   "cell_type": "markdown",
   "metadata": {},
   "source": [
    "$T=10$  \n",
    "$\\rho_{0:T(0)-1} = \\prod_{k=0}^{T(0)-1} \\frac{\\pi(A_k|S_k)}{b(A_k|S_k)}=\\prod_{k=0}^{9}  \\frac{1}{1}=1$  \n",
    "$\\rho_{t:T(t)-1} = 1$  for $t\\in[0,10]$\n",
    "#### first-visit estimators \n",
    "1. ordinary importance sampling  \n",
    "$V(s) = \\frac{1*10}{1}=10$\n",
    "2. weighted importance sampling  \n",
    "$V(s) = \\frac{1*10}{1}=10$\n",
    "\n",
    "#### every-visit estimators\n",
    "1. ordinary importance sampling  \n",
    "$V(s) = \\frac{ \\Sigma_{t\\in \\cal{T}(s)} \\rho_{t:T(t)-1}G_T}{|\\cal{T}(s)|}=\n",
    "\\frac{ \\Sigma_{G_T=10}^{1} 1*G_T}{10}=\\frac{55}{10}=5.5$  \n",
    "2. weighted importance sampling  \n",
    "$V(s) = \\frac{ \\Sigma_{t\\in \\cal{T}(s)} \\rho_{t:T(t)-1}G_T}{\\Sigma_{t\\in \\cal{T}(s)} \\rho_{t:T(t)-1}}=\n",
    "\\frac{ \\Sigma_{G_T=10}^{1} 1*G_T}{\\Sigma_{G_T=10}^{1} 1}=\\frac{55}{10}=5.5$ "
   ]
  },
  {
   "cell_type": "markdown",
   "metadata": {},
   "source": [
    "### Exercise 5.6"
   ]
  },
  {
   "cell_type": "markdown",
   "metadata": {},
   "source": [
    "$q_{\\pi}(s, a) \\doteq \\mathbb{E}_{\\pi}[G_t | S_t =s, A_t = a]$  (3.13)  \n",
    "$v_{\\pi}(s) = \\mathbb{E}_b[\\rho_{t:T-1} G_t | S_t =s] $  (5.4)  \n",
    "$\\rightarrow  q_{\\pi}(s, a) = \\mathbb{E}_b[\\rho_{q,t:T-1} G_t | S_t =s, A_t = a] $  \n",
    "$ \\rho_{t:T-1} |(A_t=a) = \\rho_{t+1:T-1} =  \\frac{\\prod_{k=t+1}^{T-1}\\pi(A_k|S_k)}{\\prod_{k=t+1}^{T-1}b(A_k|S_k)}$  (warning: k=t+1 not t)  \n",
    "$ Q(s) \\doteq \\frac{\\Sigma_{t\\in \\cal{T}(s)} \\rho_{t+1:T(t)-1}G_T}{\\Sigma_{t\\in \\cal{T}(s)} \\rho_{t+1:T(t)-1}}$"
   ]
  },
  {
   "cell_type": "markdown",
   "metadata": {},
   "source": [
    "### Exercise 5.7"
   ]
  },
  {
   "cell_type": "markdown",
   "metadata": {},
   "source": [
    "🤔?"
   ]
  },
  {
   "cell_type": "markdown",
   "metadata": {},
   "source": [
    "### Exercise 5.8"
   ]
  },
  {
   "cell_type": "markdown",
   "metadata": {},
   "source": [
    "The variance of the estimator still is infinite, because all terms of the first-visit MC method are present in the  \n",
    "expected square of the importance-sampling(with some addtional terms which make it much bigger)."
   ]
  },
  {
   "cell_type": "markdown",
   "metadata": {},
   "source": [
    "### Exercise 5.9"
   ]
  },
  {
   "cell_type": "markdown",
   "metadata": {},
   "source": [
    "Input: a policy $\\pi$ to be evaluated  \n",
    "Initialize:  \n",
    "$\\hspace{1cm}V(s) \\in \\mathbb{R}$, arbitrarily, for all $s \\in S$  \n",
    "$\\hspace{1cm}$N(s) $\\leftarrow$0, for all $s \\in S$  \n",
    "Loop forever (for each episode):  \n",
    "$\\hspace{1cm}$Generate an episode following $\\pi: S_0, A_0, R_1, S_1, A_1, R_2, . . . , S_{T-1}, A_{T-1}, R_T$  \n",
    "$\\hspace{1cm}$G $\\leftarrow$0  \n",
    "$\\hspace{1cm}$Loop for each step of episode,$ t = T-1, T-2, . . . , 0$:  \n",
    "$\\hspace{1.5cm}G \\leftarrow \\gamma G + R_{t+1}$  \n",
    "$\\hspace{1.5cm}$Unless $S_t$ appears in S_0, S_1, . . . , S_{t-1}:  \n",
    "$\\hspace{2.0cm}$N(s) $\\leftarrow$ N(s) + 1  \n",
    "$\\hspace{2.0cm}V(S_t)\\leftarrow V(S_t)+\\frac{1}{N(s)}[G-V(S_t)]$"
   ]
  },
  {
   "cell_type": "markdown",
   "metadata": {},
   "source": [
    "### Exercise 5.10"
   ]
  },
  {
   "cell_type": "markdown",
   "metadata": {},
   "source": [
    "$V_n \\doteq \\frac{\\Sigma_{k=1}^{n-1}W_kG_k}{\\Sigma_{k=1}^{n-1}W_k} = \\frac{\\Sigma_{k=1}^{n-1}W_kG_k}{C_{n-1}}$  \n",
    "\n",
    "$V_{n+1} = \\frac{V_n*C_{n-1} + W_n*G_n}{C_{n-1} + W_n}$  \n",
    "$= \\frac{V_n*(C_{n-1}+W_n) - V_n*W_n + W_n*G_n}{C_n}$  \n",
    "$= V_n + \\frac{W_n}{C_{n}}(G_n-V_n)$ "
   ]
  },
  {
   "cell_type": "markdown",
   "metadata": {},
   "source": [
    "### Exercise 5.11"
   ]
  },
  {
   "cell_type": "markdown",
   "metadata": {},
   "source": [
    "$ \\pi$ is deterministic, so $\\pi(A_t|S_t)$ is one."
   ]
  },
  {
   "cell_type": "markdown",
   "metadata": {},
   "source": [
    "### Exercise 5.12"
   ]
  },
  {
   "cell_type": "code",
   "execution_count": 12,
   "metadata": {},
   "outputs": [],
   "source": [
    "import numpy as np\n",
    "import matplotlib.pyplot as plt\n",
    "from IPython.display import clear_output\n",
    "from time import sleep\n",
    "from PIL import Image\n",
    "from CH5 import racetrack as rt\n",
    "im = np.array(Image.open(\"C:/Users/mamin/GitHub/RLBookSolutions/CH5/E 5.12 - 2.bmp\"))"
   ]
  },
  {
   "cell_type": "markdown",
   "metadata": {},
   "source": [
    "Map shape"
   ]
  },
  {
   "cell_type": "code",
   "execution_count": 13,
   "metadata": {},
   "outputs": [
    {
     "data": {
      "image/png": "[encoded data removed]",
      "text/plain": [
       "<Figure size 432x288 with 1 Axes>"
      ]
     },
     "metadata": {
      "needs_background": "light"
     },
     "output_type": "display_data"
    }
   ],
   "source": [
    "gridmap = np.flip((im==12)*rt.OBSTACLE+(im==15)*0+(im==11)*rt.GOAL+(im==9)*rt.START, 0)\n",
    "agent = rt.Agent(grid_map=gridmap)\n",
    "plt.figure()\n",
    "plt.imshow(agent.grid_map, cmap='hot')\n",
    "plt.gca().invert_yaxis()"
   ]
  },
  {
   "cell_type": "markdown",
   "metadata": {},
   "source": [
    "A random path from start to end"
   ]
  },
  {
   "cell_type": "code",
   "execution_count": 14,
   "metadata": {},
   "outputs": [
    {
     "data": {
      "image/png": "[encoded data removed]",
      "text/plain": [
       "<Figure size 432x288 with 1 Axes>"
      ]
     },
     "metadata": {
      "needs_background": "light"
     },
     "output_type": "display_data"
    }
   ],
   "source": [
    "episode=agent.episode_generator()\n",
    "mp = gridmap.copy()\n",
    "\n",
    "for e in episode[-28:]:\n",
    "    mp[e[:2]] = 9\n",
    "plt.imshow(mp)\n",
    "plt.gca().invert_yaxis()"
   ]
  },
  {
   "cell_type": "markdown",
   "metadata": {},
   "source": [
    "learning by off-policy MC control over 1000000 iteration"
   ]
  },
  {
   "cell_type": "code",
   "execution_count": 15,
   "metadata": {},
   "outputs": [
    {
     "name": "stdout",
     "output_type": "stream",
     "text": [
      "0.9999\n"
     ]
    }
   ],
   "source": [
    "pi = agent.off_policy_MC_control(10000)"
   ]
  },
  {
   "cell_type": "markdown",
   "metadata": {},
   "source": [
    "Policy map (each graph is related to a (Vx, Vy) pair)  \n",
    "As it is seen, there is a long way to obtain optimal policy(even after 1000000 iterations)."
   ]
  },
  {
   "cell_type": "code",
   "execution_count": 16,
   "metadata": {},
   "outputs": [
    {
     "data": {
      "image/png": "[encoded data removed]",
      "text/plain": [
       "<Figure size 648x648 with 36 Axes>"
      ]
     },
     "metadata": {
      "needs_background": "light"
     },
     "output_type": "display_data"
    }
   ],
   "source": [
    "plt.figure(figsize=(agent.vx_range*1.5, agent.vx_range*1.5))\n",
    "for i in reversed(range(agent.vx_min, agent.vx_max+1)):\n",
    "    for j in range(agent.vy_min, agent.vy_max+1):\n",
    "        plt.subplot(agent.vx_range, agent.vx_range, (-i + agent.vx_max) * (agent.vx_range) +(j - agent.vy_min)+1)\n",
    "        plt.imshow(pi[:,:,i,j] )\n",
    "        plt.title(str(i) + \" , \" + str(j))\n",
    "        plt.gca().invert_yaxis()\n",
    "plt.subplots_adjust(wspace=0.6, hspace=0.6)\n"
   ]
  },
  {
   "cell_type": "code",
   "execution_count": 17,
   "metadata": {},
   "outputs": [],
   "source": [
    "# first state (random)\n",
    "s = agent.random_start() + (0, 0)\n",
    "# a log list for episode\n",
    "episode = list()\n",
    "\n",
    "while True:\n",
    "    a = np.int16(pi[s])\n",
    "    s, r = agent.environment(s, a)\n",
    "    episode.append(s + ( a, r, 1.0/9))\n",
    "    if agent.grid_map[s[:2]] == rt.GOAL:\n",
    "        break"
   ]
  },
  {
   "cell_type": "markdown",
   "metadata": {},
   "source": [
    "A trajectory following trained policy"
   ]
  },
  {
   "cell_type": "code",
   "execution_count": 18,
   "metadata": {},
   "outputs": [
    {
     "data": {
      "image/png": "[encoded data removed]",
      "text/plain": [
       "<Figure size 432x288 with 1 Axes>"
      ]
     },
     "metadata": {
      "needs_background": "light"
     },
     "output_type": "display_data"
    }
   ],
   "source": [
    "mp = gridmap.copy()\n",
    "for e in episode:\n",
    "    mp[e[:2]] = 9\n",
    "plt.imshow(mp)\n",
    "plt.gca().invert_yaxis()"
   ]
  },
  {
   "cell_type": "code",
   "execution_count": 19,
   "metadata": {},
   "outputs": [
    {
     "data": {
      "text/plain": [
       "[(1, 8, 1, 0, 7, -1, 0.1111111111111111),\n",
       " (3, 9, 2, 1, 8, -1, 0.1111111111111111),\n",
       " (6, 11, 3, 2, 8, -1, 0.1111111111111111),\n",
       " (8, 14, 2, 3, 2, -1, 0.1111111111111111),\n",
       " (9, 17, 1, 3, 1, 10, 0.1111111111111111)]"
      ]
     },
     "execution_count": 19,
     "metadata": {},
     "output_type": "execute_result"
    }
   ],
   "source": [
    "episode"
   ]
  }
 ],
 "metadata": {
  "kernelspec": {
   "display_name": "Python 3",
   "language": "python",
   "name": "python3"
  },
  "language_info": {
   "codemirror_mode": {
    "name": "ipython",
    "version": 3
   },
   "file_extension": ".py",
   "mimetype": "text/x-python",
   "name": "python",
   "nbconvert_exporter": "python",
   "pygments_lexer": "ipython3",
   "version": "3.6.6"
  }
 },
 "nbformat": 4,
 "nbformat_minor": 2
}
