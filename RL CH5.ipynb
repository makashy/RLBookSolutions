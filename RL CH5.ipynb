{
 "cells": [
  {
   "cell_type": "code",
   "execution_count": 1,
   "metadata": {},
   "outputs": [],
   "source": [
    "import numpy as np\n",
    "import matplotlib.pyplot as plt\n",
    "from IPython.display import clear_output\n",
    "from time import sleep"
   ]
  },
  {
   "cell_type": "markdown",
   "metadata": {},
   "source": [
    "### Exercise 5.1"
   ]
  },
  {
   "cell_type": "markdown",
   "metadata": {},
   "source": [
    "a) Why does the estimated value function jump up for the last two rows in the rear? \n",
    "    Why does it drop off for the whole last row on the left?  \n",
    "\n",
    "The last two rows are corresponding to states which player's sum is 20 or 21. In these two state player sticks and doesn't go bust. So the player doesn't lose immediately. But in previous states, there is a chance of bust which reduces their state-values. \n",
    "\n",
    "b)Why are the frontmost values higher in the upper diagrams than in the lower?  \n",
    "\n",
    "In case usable ace is available, it is possible to prevent going bust but otherwise, the player loses."
   ]
  },
  {
   "cell_type": "markdown",
   "metadata": {},
   "source": [
    "### Exercise 5.2"
   ]
  },
  {
   "cell_type": "markdown",
   "metadata": {},
   "source": [
    "The results won't be different because every state could be visited just once in an episode."
   ]
  },
  {
   "cell_type": "markdown",
   "metadata": {},
   "source": [
    "### Exercise 5.3"
   ]
  },
  {
   "cell_type": "markdown",
   "metadata": {},
   "source": [
    "$\\bullet$ : action  \n",
    "$\\bigcirc$ : state  \n",
    "$\\diamondsuit$ : terminal state  \n",
    "$\\bullet\\rightarrow\\bigcirc\\rightarrow\\bullet\\rightarrow\\bigcirc\\rightarrow...\\bigcirc\\rightarrow\\bullet\\rightarrow\\diamondsuit$"
   ]
  },
  {
   "cell_type": "markdown",
   "metadata": {},
   "source": [
    "### Exercise 5.4"
   ]
  },
  {
   "cell_type": "markdown",
   "metadata": {},
   "source": [
    "Initialize:  \n",
    "$\\hspace{1cm}\\pi(s) \\in A(s)$ (arbitrarily), for all $s \\in S$  \n",
    "$\\hspace{1cm}Q(s, a) \\in \\mathbb{R}$ (arbitrarily), for all $s \\in S, a \\in A(s)$  \n",
    "$\\hspace{1cm}\\underline{N(s, a) \\leftarrow 0}$, for all $s \\in S, a \\in A(s)$  \n",
    "Loop forever (for each episode):  \n",
    "$\\hspace{1cm}$Choose $S_0 \\in S, A_0 \\in A(S_0)$ randomly such that all pairs have probability > 0  \n",
    "$\\hspace{1cm}$Generate an episode from $S_0, A_0$, following $\\pi: S_0, A_0, R_1, . . . , S_{T-1}, A_{T-1}, R_T$  \n",
    "$\\hspace{1cm}G \\leftarrow 0$  \n",
    "$\\hspace{1cm}$Loop for each step of episode, $t = T-1,\\ T-2, . . . ,\\ 0:$    \n",
    "$\\hspace{1.5cm}G \\leftarrow \\gamma G + R_{t+1}$  \n",
    "$\\hspace{1.5cm}$Unless the pair $S_t, A_t$ appears in $S_0, A_0, S_1, A_1 . . . , S_{t-1}, A_{t-1}$:  \n",
    "$\\hspace{2.0cm}\\underline{N(s, a) \\leftarrow N(s, a) +1}$  \n",
    "$\\hspace{2.0cm}\\underline{Q(S_t, A_t) \\leftarrow Q(S_t, A_t) + \\frac{1}{N(s,a)}(Returns(S_t, A_t)-Q(S_t, A_t))}$  \n",
    "$\\hspace{2.0cm}\\pi(S_t) \\leftarrow  argmax_a Q(S_t, a)$"
   ]
  }
 ],
 "metadata": {
  "kernelspec": {
   "display_name": "Python 3",
   "language": "python",
   "name": "python3"
  },
  "language_info": {
   "codemirror_mode": {
    "name": "ipython",
    "version": 3
   },
   "file_extension": ".py",
   "mimetype": "text/x-python",
   "name": "python",
   "nbconvert_exporter": "python",
   "pygments_lexer": "ipython3",
   "version": "3.6.6"
  }
 },
 "nbformat": 4,
 "nbformat_minor": 2
}
