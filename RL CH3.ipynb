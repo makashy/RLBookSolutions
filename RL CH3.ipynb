{
 "cells": [
  {
   "cell_type": "code",
   "execution_count": 3,
   "metadata": {},
   "outputs": [],
   "source": [
    "import numpy as np\n",
    "import matplotlib.pyplot as plt\n",
    "from IPython.display import clear_output\n",
    "from time import sleep\n",
    "import tensorflow.math as math"
   ]
  },
  {
   "cell_type": "markdown",
   "metadata": {},
   "source": [
    "### Exercise 3.12"
   ]
  },
  {
   "cell_type": "markdown",
   "metadata": {},
   "source": [
    "$v_\\pi(s) = \\Sigma_a \\pi(a|s)q_\\pi(s,a)$"
   ]
  },
  {
   "cell_type": "markdown",
   "metadata": {},
   "source": [
    "### Exercise 3.13 "
   ]
  },
  {
   "cell_type": "markdown",
   "metadata": {},
   "source": [
    "$q_\\pi(s, a) = \\Sigma_{s',r}p(s',r|s,a)[r+\\gamma v_\\pi(s')]$"
   ]
  },
  {
   "cell_type": "markdown",
   "metadata": {},
   "source": [
    "### Exercise 3.17"
   ]
  },
  {
   "cell_type": "markdown",
   "metadata": {},
   "source": [
    "$q_\\pi(s, a) = \\Sigma_{s',r}p(s',r|s,a)[r+\\gamma v_\\pi(s')]$ $\\hspace{1cm}$ (Exercise 3.13)  \n",
    "$v_\\pi(s) = \\Sigma_a \\pi(a|s)q_\\pi(s,a)$ $\\hspace{1cm}$ (Exercise 3.12)  \n",
    "$\\rightarrow q_\\pi(s, a) = \\Sigma_{s',r}p(s',r|s,a)[r+\\gamma \\Sigma_{a'} \\pi(a'|s')q_\\pi(s',a')]$"
   ]
  }
 ],
 "metadata": {
  "kernelspec": {
   "display_name": "Python 3",
   "language": "python",
   "name": "python3"
  },
  "language_info": {
   "codemirror_mode": {
    "name": "ipython",
    "version": 3
   },
   "file_extension": ".py",
   "mimetype": "text/x-python",
   "name": "python",
   "nbconvert_exporter": "python",
   "pygments_lexer": "ipython3",
   "version": "3.6.6"
  }
 },
 "nbformat": 4,
 "nbformat_minor": 2
}
